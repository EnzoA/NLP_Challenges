{
  "cells": [
    {
      "cell_type": "markdown",
      "metadata": {
        "id": "q6SnQsASHKUJ"
      },
      "source": [
        "## LSTM Bot QA"
      ]
    },
    {
      "cell_type": "markdown",
      "metadata": {
        "id": "TJsdb3-cHKUM"
      },
      "source": [
        "El objetivo de este notebook es utilizar los datos del challenge ConvAI2 (Conversational Intelligence Challenge 2) con conversaciones en inglés para desarrollar un chatbot basado en una arquitectura Encoder-Decoder capaz de responder preguntas de usuario."
      ]
    },
    {
      "cell_type": "markdown",
      "metadata": {
        "id": "qM3d9TL2HKUM"
      },
      "source": [
        "### Librerías"
      ]
    },
    {
      "cell_type": "code",
      "execution_count": 16,
      "metadata": {
        "id": "QB-_2jnvHKUN"
      },
      "outputs": [],
      "source": [
        "#!pip install gdown\n",
        "\n",
        "import os\n",
        "import json\n",
        "import re\n",
        "import gdown\n",
        "\n",
        "import logging\n",
        "from pathlib import Path\n",
        "from io import StringIO\n",
        "import pickle\n",
        "\n",
        "import numpy as np\n",
        "import pandas as pd\n",
        "\n",
        "from keras.preprocessing.text import Tokenizer\n",
        "from tensorflow.keras.utils import pad_sequences\n",
        "from keras.utils import to_categorical\n",
        "from keras.models import Model\n",
        "from keras.layers import Input, LSTM, Dense, Embedding\n",
        "from keras.utils import plot_model\n",
        "\n",
        "import matplotlib.pyplot as plt\n",
        "import seaborn as sns"
      ]
    },
    {
      "cell_type": "markdown",
      "metadata": {
        "id": "AmBZz0d7HKUO"
      },
      "source": [
        "### Carga de datos"
      ]
    },
    {
      "cell_type": "code",
      "execution_count": 2,
      "metadata": {
        "colab": {
          "base_uri": "https://localhost:8080/"
        },
        "id": "E_zV4qEdHKUO",
        "outputId": "9d657557-a678-4c19-81d5-830876d37410"
      },
      "outputs": [
        {
          "output_type": "stream",
          "name": "stderr",
          "text": [
            "Downloading...\n",
            "From: https://drive.google.com/uc?id=1awUxYwImF84MIT5-jCaYAPe2QwSgS1hN&export=download\n",
            "To: /content/data_volunteers.json\n",
            "100%|██████████| 2.58M/2.58M [00:00<00:00, 41.2MB/s]\n"
          ]
        }
      ],
      "source": [
        "if os.access('data_volunteers.json', os.F_OK) is False:\n",
        "    url = 'https://drive.google.com/uc?id=1awUxYwImF84MIT5-jCaYAPe2QwSgS1hN&export=download'\n",
        "    output = 'data_volunteers.json'\n",
        "    gdown.download(url, output, quiet=False)\n",
        "else:\n",
        "    print('El dataset ya se encuentra descargado')\n",
        "\n",
        "text_file = 'data_volunteers.json'\n",
        "with open(text_file) as f:\n",
        "    data = json.load(f)"
      ]
    },
    {
      "cell_type": "code",
      "execution_count": 3,
      "metadata": {
        "colab": {
          "base_uri": "https://localhost:8080/"
        },
        "id": "-mRDPOBBHKUO",
        "outputId": "3452e8c8-f652-47b7-df2e-5d5a6af9f403"
      },
      "outputs": [
        {
          "output_type": "execute_result",
          "data": {
            "text/plain": [
              "dict_keys(['dialog', 'start_time', 'end_time', 'bot_profile', 'user_profile', 'eval_score', 'profile_match', 'participant1_id', 'participant2_id'])"
            ]
          },
          "metadata": {},
          "execution_count": 3
        }
      ],
      "source": [
        "# Observar los campos disponibles en cada linea del dataset\n",
        "data[0].keys()"
      ]
    },
    {
      "cell_type": "code",
      "execution_count": 4,
      "metadata": {
        "colab": {
          "base_uri": "https://localhost:8080/"
        },
        "id": "gcPGggNUHKUP",
        "outputId": "5435925b-519b-402b-e857-b2f18e5efb98"
      },
      "outputs": [
        {
          "output_type": "stream",
          "name": "stdout",
          "text": [
            "Cantidad de rows utilizadas: 6033\n"
          ]
        }
      ],
      "source": [
        "chat_in = []\n",
        "chat_out = []\n",
        "\n",
        "input_sentences = []\n",
        "output_sentences = []\n",
        "output_sentences_inputs = []\n",
        "max_len = 30\n",
        "\n",
        "def clean_text(txt):\n",
        "    txt = txt.lower()\n",
        "    txt.replace('\\'d', ' had')\n",
        "    txt.replace('\\'s', ' is')\n",
        "    txt.replace('\\'m', ' am')\n",
        "    txt.replace('don\\'t', 'do not')\n",
        "    txt = re.sub(r'\\W+', ' ', txt)\n",
        "\n",
        "    return txt\n",
        "\n",
        "for line in data:\n",
        "    for i in range(len(line['dialog']) - 1):\n",
        "        # vamos separando el texto en \"preguntas\" (chat_in)\n",
        "        # y \"respuestas\" (chat_out)\n",
        "        chat_in = clean_text(line['dialog'][i]['text'])\n",
        "        chat_out = clean_text(line['dialog'][i + 1]['text'])\n",
        "\n",
        "        if len(chat_in) >= max_len or len(chat_out) >= max_len:\n",
        "            continue\n",
        "\n",
        "        input_sentence, output = chat_in, chat_out\n",
        "\n",
        "        # output sentence (decoder_output) tiene <eos>\n",
        "        output_sentence = output + ' <eos>'\n",
        "        # output sentence input (decoder_input) tiene <sos>\n",
        "        output_sentence_input = '<sos> ' + output\n",
        "\n",
        "        input_sentences.append(input_sentence)\n",
        "        output_sentences.append(output_sentence)\n",
        "        output_sentences_inputs.append(output_sentence_input)\n",
        "\n",
        "print('Cantidad de rows utilizadas:', len(input_sentences))"
      ]
    },
    {
      "cell_type": "code",
      "execution_count": 5,
      "metadata": {
        "colab": {
          "base_uri": "https://localhost:8080/"
        },
        "id": "KnFZF9jqHKUP",
        "outputId": "ebe57e92-1ba4-4bd1-f02d-ef1ef5756d69"
      },
      "outputs": [
        {
          "output_type": "execute_result",
          "data": {
            "text/plain": [
              "('hi how are you ', 'not bad and you  <eos>', '<sos> not bad and you ')"
            ]
          },
          "metadata": {},
          "execution_count": 5
        }
      ],
      "source": [
        "input_sentences[1], output_sentences[1], output_sentences_inputs[1]"
      ]
    },
    {
      "cell_type": "markdown",
      "metadata": {
        "id": "L4t8FidPHKUP"
      },
      "source": [
        "### Preprocesamiento"
      ]
    },
    {
      "cell_type": "code",
      "execution_count": 6,
      "metadata": {
        "colab": {
          "base_uri": "https://localhost:8080/"
        },
        "id": "9g5BC9L-HKUP",
        "outputId": "49609a76-89bd-4153-fcff-f86cf9a32986"
      },
      "outputs": [
        {
          "output_type": "stream",
          "name": "stdout",
          "text": [
            "Palabras en el vocabulario: 1799\n",
            "Sentencia de entrada más larga: 9\n",
            "Palabras en el vocabulario de salida: 1807\n",
            "Sentencia de salida más larga: 10\n",
            "\n",
            "Palabras a índices de entrada:\n",
            "[('i', 1), ('you', 2), ('do', 3), ('what', 4), ('a', 5)]\n",
            "\n",
            "Palabras a índices de salida:\n",
            "[('<eos>', 1), ('you', 2), ('i', 3), ('do', 4), ('what', 5)]\n"
          ]
        }
      ],
      "source": [
        "MAX_VOCAB_SIZE = 8000\n",
        "\n",
        "input_tokenizer = Tokenizer(num_words=MAX_VOCAB_SIZE)\n",
        "input_tokenizer.fit_on_texts(input_sentences)\n",
        "input_integer_seq = input_tokenizer.texts_to_sequences(input_sentences)\n",
        "word2idx_inputs = input_tokenizer.word_index\n",
        "print('Palabras en el vocabulario:', len(word2idx_inputs))\n",
        "max_input_len = max(len(sen) for sen in input_integer_seq)\n",
        "print('Sentencia de entrada más larga:', max_input_len)\n",
        "\n",
        "output_tokenizer = Tokenizer(num_words=MAX_VOCAB_SIZE, filters='!\"#$%&()*+,-./:;=?@[\\\\]^_`{|}~\\t\\n')\n",
        "output_tokenizer.fit_on_texts(['<sos>', '<eos>'] + output_sentences)\n",
        "output_integer_seq = output_tokenizer.texts_to_sequences(output_sentences)\n",
        "output_input_integer_seq = output_tokenizer.texts_to_sequences(output_sentences_inputs)\n",
        "word2idx_outputs = output_tokenizer.word_index\n",
        "num_words_output = min(len(word2idx_outputs) + 1, MAX_VOCAB_SIZE)\n",
        "print('Palabras en el vocabulario de salida:', num_words_output)\n",
        "max_out_len = max(len(sen) for sen in output_integer_seq)\n",
        "print('Sentencia de salida más larga:', max_out_len)\n",
        "\n",
        "print('\\nPalabras a índices de entrada:')\n",
        "print(list(word2idx_inputs.items())[:5])\n",
        "print('\\nPalabras a índices de salida:')\n",
        "print(list(word2idx_outputs.items())[:5])"
      ]
    },
    {
      "cell_type": "code",
      "execution_count": 7,
      "metadata": {
        "colab": {
          "base_uri": "https://localhost:8080/"
        },
        "id": "cuwSTiG_HKUQ",
        "outputId": "e9821127-753e-482f-e97e-7afd9afe3aaf"
      },
      "outputs": [
        {
          "output_type": "stream",
          "name": "stdout",
          "text": [
            "encoder_input_sequences shape: (6033, 9)\n",
            "decoder_input_sequences shape: (6033, 10)\n",
            "decoder_targets shape: (6033, 10, 1807)\n"
          ]
        }
      ],
      "source": [
        "encoder_input_sequences = pad_sequences(input_integer_seq, maxlen=max_input_len)\n",
        "print('encoder_input_sequences shape:', encoder_input_sequences.shape)\n",
        "\n",
        "decoder_input_sequences = pad_sequences(output_input_integer_seq, maxlen=max_out_len, padding='post')\n",
        "print('decoder_input_sequences shape:', decoder_input_sequences.shape)\n",
        "\n",
        "decoder_output_sequences = pad_sequences(output_integer_seq, maxlen=max_out_len, padding='post')\n",
        "decoder_targets = to_categorical(decoder_output_sequences, num_classes=num_words_output)\n",
        "print('decoder_targets shape:', decoder_targets.shape)"
      ]
    },
    {
      "cell_type": "markdown",
      "source": [
        "### Embeddings"
      ],
      "metadata": {
        "id": "BALqVWJbTrC7"
      }
    },
    {
      "cell_type": "code",
      "source": [
        "class WordsEmbeddings(object):\n",
        "    logger = logging.getLogger(__name__)\n",
        "\n",
        "    def __init__(self):\n",
        "        # load the embeddings\n",
        "        words_embedding_pkl = Path(self.PKL_PATH)\n",
        "        if not words_embedding_pkl.is_file():\n",
        "            words_embedding_txt = Path(self.WORD_TO_VEC_MODEL_TXT_PATH)\n",
        "            assert words_embedding_txt.is_file(), 'Words embedding not available'\n",
        "            embeddings = self.convert_model_to_pickle()\n",
        "        else:\n",
        "            embeddings = self.load_model_from_pickle()\n",
        "        self.embeddings = embeddings\n",
        "        # build the vocabulary hashmap\n",
        "        index = np.arange(self.embeddings.shape[0])\n",
        "        # Dicctionarios para traducir de embedding a IDX de la palabra\n",
        "        self.word2idx = dict(zip(self.embeddings['word'], index))\n",
        "        self.idx2word = dict(zip(index, self.embeddings['word']))\n",
        "\n",
        "    def get_words_embeddings(self, words):\n",
        "        words_idxs = self.words2idxs(words)\n",
        "        return self.embeddings[words_idxs]['embedding']\n",
        "\n",
        "    def words2idxs(self, words):\n",
        "        return np.array([self.word2idx.get(word, -1) for word in words])\n",
        "\n",
        "    def idxs2words(self, idxs):\n",
        "        return np.array([self.idx2word.get(idx, '-1') for idx in idxs])\n",
        "\n",
        "    def load_model_from_pickle(self):\n",
        "        self.logger.debug(\n",
        "            'loading words embeddings from pickle {}'.format(\n",
        "                self.PKL_PATH\n",
        "            )\n",
        "        )\n",
        "        max_bytes = 2**28 - 1 # 256MB\n",
        "        bytes_in = bytearray(0)\n",
        "        input_size = os.path.getsize(self.PKL_PATH)\n",
        "        with open(self.PKL_PATH, 'rb') as f_in:\n",
        "            for _ in range(0, input_size, max_bytes):\n",
        "                bytes_in += f_in.read(max_bytes)\n",
        "        embeddings = pickle.loads(bytes_in)\n",
        "        self.logger.debug('words embeddings loaded')\n",
        "        return embeddings\n",
        "\n",
        "    def convert_model_to_pickle(self):\n",
        "        # create a numpy strctured array:\n",
        "        # word     embedding\n",
        "        # U50      np.float32[]\n",
        "        # word_1   a, b, c\n",
        "        # word_2   d, e, f\n",
        "        # ...\n",
        "        # word_n   g, h, i\n",
        "        self.logger.debug(\n",
        "            'converting and loading words embeddings from text file {}'.format(\n",
        "                self.WORD_TO_VEC_MODEL_TXT_PATH\n",
        "            )\n",
        "        )\n",
        "        structure = [('word', np.dtype('U' + str(self.WORD_MAX_SIZE))),\n",
        "                     ('embedding', np.float32, (self.N_FEATURES,))]\n",
        "        structure = np.dtype(structure)\n",
        "        # load numpy array from disk using a generator\n",
        "        with open(self.WORD_TO_VEC_MODEL_TXT_PATH, encoding=\"utf8\") as words_embeddings_txt:\n",
        "            embeddings_gen = (\n",
        "                (line.split()[0], line.split()[1:]) for line in words_embeddings_txt\n",
        "                if len(line.split()[1:]) == self.N_FEATURES\n",
        "            )\n",
        "            embeddings = np.fromiter(embeddings_gen, structure)\n",
        "        # add a null embedding\n",
        "        null_embedding = np.array(\n",
        "            [('null_embedding', np.zeros((self.N_FEATURES,), dtype=np.float32))],\n",
        "            dtype=structure\n",
        "        )\n",
        "        embeddings = np.concatenate([embeddings, null_embedding])\n",
        "        # dump numpy array to disk using pickle\n",
        "        max_bytes = 2**28 - 1 # # 256MB\n",
        "        bytes_out = pickle.dumps(embeddings, protocol=pickle.HIGHEST_PROTOCOL)\n",
        "        with open(self.PKL_PATH, 'wb') as f_out:\n",
        "            for idx in range(0, len(bytes_out), max_bytes):\n",
        "                f_out.write(bytes_out[idx:idx+max_bytes])\n",
        "        self.logger.debug('words embeddings loaded')\n",
        "        return embeddings\n",
        "\n",
        "class FasttextEmbeddings(WordsEmbeddings):\n",
        "    WORD_TO_VEC_MODEL_TXT_PATH = 'cc.en.300.vec'\n",
        "    PKL_PATH = 'fasttext.pkl'\n",
        "    N_FEATURES = 300\n",
        "    WORD_MAX_SIZE = 60"
      ],
      "metadata": {
        "id": "YjpC98eVTtYW"
      },
      "execution_count": 8,
      "outputs": []
    },
    {
      "cell_type": "code",
      "source": [
        "!gdown 1BnZU5QLFZviKVGKYEnHrVuBAJDw6imXx\n",
        "\n",
        "model_embeddings = FasttextEmbeddings()\n",
        "\n",
        "# Crear la Embedding matrix de las secuencias en inglés\n",
        "\n",
        "print('preparing embedding matrix...')\n",
        "embed_dim = model_embeddings.N_FEATURES\n",
        "words_not_found = []\n",
        "\n",
        "nb_words = min(MAX_VOCAB_SIZE, len(word2idx_inputs)) # vocab_size\n",
        "embedding_matrix = np.zeros((nb_words, embed_dim))\n",
        "for word, i in word2idx_inputs.items():\n",
        "    if i >= nb_words:\n",
        "        continue\n",
        "    embedding_vector = model_embeddings.get_words_embeddings(word)[0]\n",
        "    if (embedding_vector is not None) and len(embedding_vector) > 0:\n",
        "        embedding_matrix[i] = embedding_vector\n",
        "    else:\n",
        "        # words not found in embedding index will be all-zeros.\n",
        "        words_not_found.append(word)\n",
        "\n",
        "print('number of null word embeddings:', np.sum(np.sum(embedding_matrix**2, axis=1) == 0))\n",
        "print('embedding_matrix shape', embedding_matrix.shape)"
      ],
      "metadata": {
        "colab": {
          "base_uri": "https://localhost:8080/"
        },
        "id": "H2-Dn4D6WSFG",
        "outputId": "9740ddbe-e0f9-47c0-837c-5d8dbba626c0"
      },
      "execution_count": 9,
      "outputs": [
        {
          "output_type": "stream",
          "name": "stdout",
          "text": [
            "Downloading...\n",
            "From (original): https://drive.google.com/uc?id=1BnZU5QLFZviKVGKYEnHrVuBAJDw6imXx\n",
            "From (redirected): https://drive.google.com/uc?id=1BnZU5QLFZviKVGKYEnHrVuBAJDw6imXx&confirm=t&uuid=70200537-2219-4753-8c9a-71af26089423\n",
            "To: /content/cc.en.300.vec\n",
            "100% 4.51G/4.51G [00:45<00:00, 98.5MB/s]\n",
            "preparing embedding matrix...\n",
            "number of null word embeddings: 1\n",
            "embedding_matrix shape (1799, 300)\n"
          ]
        }
      ]
    },
    {
      "cell_type": "markdown",
      "source": [
        "### Modelo"
      ],
      "metadata": {
        "id": "-_XmVOJYZAFa"
      }
    },
    {
      "cell_type": "code",
      "source": [
        "n_units = 128\n",
        "\n",
        "# define training encoder\n",
        "encoder_inputs = Input(shape=(max_input_len))\n",
        "\n",
        "#encoder_embedding_layer = Embedding(num_words, EMBEDDING_SIZE, weights=[embedding_matrix], input_length=max_input_len)\n",
        "\n",
        "encoder_embedding_layer = Embedding(\n",
        "          input_dim=nb_words,  # definido en el Tokenizador\n",
        "          output_dim=embed_dim,  # dimensión de los embeddings utilizados\n",
        "          input_length=max_input_len, # tamaño máximo de la secuencia de entrada\n",
        "          weights=[embedding_matrix],  # matrix de embeddings\n",
        "          trainable=False)      # marcar como layer no entrenable\n",
        "\n",
        "encoder_inputs_x = encoder_embedding_layer(encoder_inputs)\n",
        "\n",
        "encoder = LSTM(n_units, dropout=0.2, return_state=True)\n",
        "encoder_outputs, state_h, state_c = encoder(encoder_inputs_x)\n",
        "encoder_states = [state_h, state_c]\n",
        "\n",
        "# define training decoder\n",
        "decoder_inputs = Input(shape=(max_out_len))\n",
        "decoder_embedding_layer = Embedding(input_dim=num_words_output, output_dim=n_units, input_length=max_out_len)\n",
        "decoder_inputs_x = decoder_embedding_layer(decoder_inputs)\n",
        "\n",
        "decoder_lstm = LSTM(n_units, dropout=0.2, return_sequences=True, return_state=True)\n",
        "decoder_outputs, _, _ = decoder_lstm(decoder_inputs_x, initial_state=encoder_states)\n",
        "\n",
        "# Dense\n",
        "decoder_dense = Dense(num_words_output, activation='softmax')\n",
        "decoder_outputs = decoder_dense(decoder_outputs)\n",
        "model = Model([encoder_inputs, decoder_inputs], decoder_outputs)\n",
        "\n",
        "model.compile(loss='categorical_crossentropy', optimizer='Adam', metrics=['accuracy'])\n",
        "model.summary()"
      ],
      "metadata": {
        "colab": {
          "base_uri": "https://localhost:8080/"
        },
        "id": "XltKDmPVaQCF",
        "outputId": "89afb05b-c7d2-4a2e-e822-bf37a7eafb10"
      },
      "execution_count": 24,
      "outputs": [
        {
          "output_type": "stream",
          "name": "stdout",
          "text": [
            "Model: \"model_3\"\n",
            "__________________________________________________________________________________________________\n",
            " Layer (type)                Output Shape                 Param #   Connected to                  \n",
            "==================================================================================================\n",
            " input_6 (InputLayer)        [(None, 9)]                  0         []                            \n",
            "                                                                                                  \n",
            " input_7 (InputLayer)        [(None, 10)]                 0         []                            \n",
            "                                                                                                  \n",
            " embedding_2 (Embedding)     (None, 9, 300)               539700    ['input_6[0][0]']             \n",
            "                                                                                                  \n",
            " embedding_3 (Embedding)     (None, 10, 128)              231296    ['input_7[0][0]']             \n",
            "                                                                                                  \n",
            " lstm_2 (LSTM)               [(None, 128),                219648    ['embedding_2[0][0]']         \n",
            "                              (None, 128),                                                        \n",
            "                              (None, 128)]                                                        \n",
            "                                                                                                  \n",
            " lstm_3 (LSTM)               [(None, 10, 128),            131584    ['embedding_3[0][0]',         \n",
            "                              (None, 128),                           'lstm_2[0][1]',              \n",
            "                              (None, 128)]                           'lstm_2[0][2]']              \n",
            "                                                                                                  \n",
            " dense_1 (Dense)             (None, 10, 1807)             233103    ['lstm_3[0][0]']              \n",
            "                                                                                                  \n",
            "==================================================================================================\n",
            "Total params: 1355331 (5.17 MB)\n",
            "Trainable params: 815631 (3.11 MB)\n",
            "Non-trainable params: 539700 (2.06 MB)\n",
            "__________________________________________________________________________________________________\n"
          ]
        }
      ]
    },
    {
      "cell_type": "code",
      "source": [
        "# Inference encoder\n",
        "encoder_model = Model(encoder_inputs, encoder_states)\n",
        "\n",
        "# Inference decoder\n",
        "decoder_state_input_h = Input(shape=(n_units,))\n",
        "decoder_state_input_c = Input(shape=(n_units,))\n",
        "decoder_states_inputs = [decoder_state_input_h, decoder_state_input_c]\n",
        "\n",
        "decoder_inputs_single = Input(shape=(1,))\n",
        "decoder_inputs_single_x = decoder_embedding_layer(decoder_inputs_single)\n",
        "\n",
        "decoder_outputs, state_h, state_c = decoder_lstm(decoder_inputs_single_x, initial_state=decoder_states_inputs)\n",
        "decoder_states = [state_h, state_c]\n",
        "decoder_outputs = decoder_dense(decoder_outputs)\n",
        "decoder_model = Model([decoder_inputs_single] + decoder_states_inputs, [decoder_outputs] + decoder_states)"
      ],
      "metadata": {
        "id": "iBBxAmcLbceF"
      },
      "execution_count": 25,
      "outputs": []
    },
    {
      "cell_type": "code",
      "source": [
        "# Modelo completo (encoder + decoder) para poder entrenar\n",
        "plot_model(model, to_file='model_plot.png', show_shapes=True, show_layer_names=True)"
      ],
      "metadata": {
        "colab": {
          "base_uri": "https://localhost:8080/",
          "height": 533
        },
        "id": "ye59o4esn4hj",
        "outputId": "7187193b-c7c1-43b7-af57-a8ad39a1da2d"
      },
      "execution_count": 26,
      "outputs": [
        {
          "output_type": "execute_result",
          "data": {
            "image/png": "[encoded data removed]",
            "text/plain": [
              "<IPython.core.display.Image object>"
            ]
          },
          "metadata": {},
          "execution_count": 26
        }
      ]
    },
    {
      "cell_type": "code",
      "source": [
        "# Modelo encoder\n",
        "plot_model(encoder_model, to_file='encoder_plot.png', show_shapes=True, show_layer_names=True)"
      ],
      "metadata": {
        "colab": {
          "base_uri": "https://localhost:8080/",
          "height": 312
        },
        "id": "Nw_-Rs-Un9r6",
        "outputId": "f6580658-308a-4cdd-fa6f-6b84e506e00c"
      },
      "execution_count": 27,
      "outputs": [
        {
          "output_type": "execute_result",
          "data": {
            "image/png": "[encoded data removed]",
            "text/plain": [
              "<IPython.core.display.Image object>"
            ]
          },
          "metadata": {},
          "execution_count": 27
        }
      ]
    },
    {
      "cell_type": "code",
      "source": [
        "# Modelo decoder\n",
        "plot_model(decoder_model, to_file='decoder_plot.png', show_shapes=True, show_layer_names=True)"
      ],
      "metadata": {
        "colab": {
          "base_uri": "https://localhost:8080/",
          "height": 422
        },
        "id": "4wFEEvlJoFdW",
        "outputId": "20596856-4a74-4f24-d9dd-323fe34e9e1a"
      },
      "execution_count": 28,
      "outputs": [
        {
          "output_type": "execute_result",
          "data": {
            "image/png": "[encoded data removed]",
            "text/plain": [
              "<IPython.core.display.Image object>"
            ]
          },
          "metadata": {},
          "execution_count": 28
        }
      ]
    },
    {
      "cell_type": "markdown",
      "source": [
        "### Entrenamiento"
      ],
      "metadata": {
        "id": "bmT3ITnQbxM8"
      }
    },
    {
      "cell_type": "code",
      "source": [
        "hist = model.fit(\n",
        "    [encoder_input_sequences, decoder_input_sequences],\n",
        "    decoder_targets,\n",
        "    epochs=50,\n",
        "    validation_split=0.2)"
      ],
      "metadata": {
        "colab": {
          "base_uri": "https://localhost:8080/"
        },
        "id": "RMV01T5UbypR",
        "outputId": "989faa11-8730-4fb9-8538-d76d0f596f87"
      },
      "execution_count": 29,
      "outputs": [
        {
          "output_type": "stream",
          "name": "stdout",
          "text": [
            "Epoch 1/50\n",
            "151/151 [==============================] - 10s 35ms/step - loss: 3.0873 - accuracy: 0.5071 - val_loss: 2.3097 - val_accuracy: 0.6255\n",
            "Epoch 2/50\n",
            "151/151 [==============================] - 2s 13ms/step - loss: 2.1041 - accuracy: 0.6179 - val_loss: 2.1159 - val_accuracy: 0.6476\n",
            "Epoch 3/50\n",
            "151/151 [==============================] - 2s 10ms/step - loss: 1.8492 - accuracy: 0.6755 - val_loss: 1.9398 - val_accuracy: 0.6896\n",
            "Epoch 4/50\n",
            "151/151 [==============================] - 2s 15ms/step - loss: 1.6670 - accuracy: 0.7094 - val_loss: 1.8457 - val_accuracy: 0.6989\n",
            "Epoch 5/50\n",
            "151/151 [==============================] - 2s 16ms/step - loss: 1.5559 - accuracy: 0.7215 - val_loss: 1.7925 - val_accuracy: 0.7039\n",
            "Epoch 6/50\n",
            "151/151 [==============================] - 3s 17ms/step - loss: 1.4778 - accuracy: 0.7314 - val_loss: 1.7487 - val_accuracy: 0.7104\n",
            "Epoch 7/50\n",
            "151/151 [==============================] - 3s 17ms/step - loss: 1.4197 - accuracy: 0.7375 - val_loss: 1.7199 - val_accuracy: 0.7131\n",
            "Epoch 8/50\n",
            "151/151 [==============================] - 2s 16ms/step - loss: 1.3727 - accuracy: 0.7413 - val_loss: 1.6996 - val_accuracy: 0.7168\n",
            "Epoch 9/50\n",
            "151/151 [==============================] - 3s 20ms/step - loss: 1.3329 - accuracy: 0.7439 - val_loss: 1.6851 - val_accuracy: 0.7162\n",
            "Epoch 10/50\n",
            "151/151 [==============================] - 3s 22ms/step - loss: 1.2964 - accuracy: 0.7485 - val_loss: 1.6728 - val_accuracy: 0.7222\n",
            "Epoch 11/50\n",
            "151/151 [==============================] - 3s 19ms/step - loss: 1.2648 - accuracy: 0.7516 - val_loss: 1.6650 - val_accuracy: 0.7225\n",
            "Epoch 12/50\n",
            "151/151 [==============================] - 3s 19ms/step - loss: 1.2356 - accuracy: 0.7550 - val_loss: 1.6525 - val_accuracy: 0.7249\n",
            "Epoch 13/50\n",
            "151/151 [==============================] - 3s 17ms/step - loss: 1.2101 - accuracy: 0.7576 - val_loss: 1.6484 - val_accuracy: 0.7249\n",
            "Epoch 14/50\n",
            "151/151 [==============================] - 2s 14ms/step - loss: 1.1865 - accuracy: 0.7610 - val_loss: 1.6442 - val_accuracy: 0.7263\n",
            "Epoch 15/50\n",
            "151/151 [==============================] - 2s 10ms/step - loss: 1.1643 - accuracy: 0.7625 - val_loss: 1.6450 - val_accuracy: 0.7284\n",
            "Epoch 16/50\n",
            "151/151 [==============================] - 2s 11ms/step - loss: 1.1432 - accuracy: 0.7660 - val_loss: 1.6425 - val_accuracy: 0.7304\n",
            "Epoch 17/50\n",
            "151/151 [==============================] - 1s 10ms/step - loss: 1.1234 - accuracy: 0.7684 - val_loss: 1.6398 - val_accuracy: 0.7301\n",
            "Epoch 18/50\n",
            "151/151 [==============================] - 2s 11ms/step - loss: 1.1052 - accuracy: 0.7714 - val_loss: 1.6410 - val_accuracy: 0.7318\n",
            "Epoch 19/50\n",
            "151/151 [==============================] - 2s 11ms/step - loss: 1.0873 - accuracy: 0.7725 - val_loss: 1.6414 - val_accuracy: 0.7303\n",
            "Epoch 20/50\n",
            "151/151 [==============================] - 2s 11ms/step - loss: 1.0707 - accuracy: 0.7743 - val_loss: 1.6457 - val_accuracy: 0.7312\n",
            "Epoch 21/50\n",
            "151/151 [==============================] - 2s 14ms/step - loss: 1.0539 - accuracy: 0.7764 - val_loss: 1.6451 - val_accuracy: 0.7316\n",
            "Epoch 22/50\n",
            "151/151 [==============================] - 2s 16ms/step - loss: 1.0390 - accuracy: 0.7775 - val_loss: 1.6485 - val_accuracy: 0.7341\n",
            "Epoch 23/50\n",
            "151/151 [==============================] - 3s 17ms/step - loss: 1.0243 - accuracy: 0.7794 - val_loss: 1.6505 - val_accuracy: 0.7334\n",
            "Epoch 24/50\n",
            "151/151 [==============================] - 2s 16ms/step - loss: 1.0093 - accuracy: 0.7804 - val_loss: 1.6569 - val_accuracy: 0.7319\n",
            "Epoch 25/50\n",
            "151/151 [==============================] - 3s 18ms/step - loss: 0.9955 - accuracy: 0.7821 - val_loss: 1.6560 - val_accuracy: 0.7334\n",
            "Epoch 26/50\n",
            "151/151 [==============================] - 2s 16ms/step - loss: 0.9826 - accuracy: 0.7837 - val_loss: 1.6683 - val_accuracy: 0.7337\n",
            "Epoch 27/50\n",
            "151/151 [==============================] - 2s 16ms/step - loss: 0.9673 - accuracy: 0.7859 - val_loss: 1.6666 - val_accuracy: 0.7361\n",
            "Epoch 28/50\n",
            "151/151 [==============================] - 3s 18ms/step - loss: 0.9547 - accuracy: 0.7884 - val_loss: 1.6710 - val_accuracy: 0.7321\n",
            "Epoch 29/50\n",
            "151/151 [==============================] - 2s 16ms/step - loss: 0.9428 - accuracy: 0.7888 - val_loss: 1.6772 - val_accuracy: 0.7353\n",
            "Epoch 30/50\n",
            "151/151 [==============================] - 2s 16ms/step - loss: 0.9304 - accuracy: 0.7919 - val_loss: 1.6805 - val_accuracy: 0.7359\n",
            "Epoch 31/50\n",
            "151/151 [==============================] - 3s 18ms/step - loss: 0.9177 - accuracy: 0.7927 - val_loss: 1.6787 - val_accuracy: 0.7369\n",
            "Epoch 32/50\n",
            "151/151 [==============================] - 2s 12ms/step - loss: 0.9069 - accuracy: 0.7944 - val_loss: 1.6827 - val_accuracy: 0.7362\n",
            "Epoch 33/50\n",
            "151/151 [==============================] - 2s 11ms/step - loss: 0.8961 - accuracy: 0.7956 - val_loss: 1.6986 - val_accuracy: 0.7365\n",
            "Epoch 34/50\n",
            "151/151 [==============================] - 2s 11ms/step - loss: 0.8840 - accuracy: 0.7976 - val_loss: 1.6971 - val_accuracy: 0.7371\n",
            "Epoch 35/50\n",
            "151/151 [==============================] - 1s 10ms/step - loss: 0.8734 - accuracy: 0.8002 - val_loss: 1.7026 - val_accuracy: 0.7356\n",
            "Epoch 36/50\n",
            "151/151 [==============================] - 2s 10ms/step - loss: 0.8632 - accuracy: 0.8005 - val_loss: 1.7096 - val_accuracy: 0.7345\n",
            "Epoch 37/50\n",
            "151/151 [==============================] - 1s 10ms/step - loss: 0.8529 - accuracy: 0.8024 - val_loss: 1.7123 - val_accuracy: 0.7345\n",
            "Epoch 38/50\n",
            "151/151 [==============================] - 2s 12ms/step - loss: 0.8430 - accuracy: 0.8035 - val_loss: 1.7167 - val_accuracy: 0.7350\n",
            "Epoch 39/50\n",
            "151/151 [==============================] - 2s 14ms/step - loss: 0.8340 - accuracy: 0.8050 - val_loss: 1.7226 - val_accuracy: 0.7347\n",
            "Epoch 40/50\n",
            "151/151 [==============================] - 2s 16ms/step - loss: 0.8250 - accuracy: 0.8069 - val_loss: 1.7321 - val_accuracy: 0.7344\n",
            "Epoch 41/50\n",
            "151/151 [==============================] - 3s 17ms/step - loss: 0.8153 - accuracy: 0.8080 - val_loss: 1.7385 - val_accuracy: 0.7345\n",
            "Epoch 42/50\n",
            "151/151 [==============================] - 2s 16ms/step - loss: 0.8070 - accuracy: 0.8084 - val_loss: 1.7401 - val_accuracy: 0.7369\n",
            "Epoch 43/50\n",
            "151/151 [==============================] - 2s 16ms/step - loss: 0.7982 - accuracy: 0.8114 - val_loss: 1.7466 - val_accuracy: 0.7363\n",
            "Epoch 44/50\n",
            "151/151 [==============================] - 3s 19ms/step - loss: 0.7898 - accuracy: 0.8128 - val_loss: 1.7537 - val_accuracy: 0.7353\n",
            "Epoch 45/50\n",
            "151/151 [==============================] - 3s 20ms/step - loss: 0.7814 - accuracy: 0.8129 - val_loss: 1.7621 - val_accuracy: 0.7343\n",
            "Epoch 46/50\n",
            "151/151 [==============================] - 3s 19ms/step - loss: 0.7723 - accuracy: 0.8150 - val_loss: 1.7680 - val_accuracy: 0.7360\n",
            "Epoch 47/50\n",
            "151/151 [==============================] - 3s 17ms/step - loss: 0.7661 - accuracy: 0.8162 - val_loss: 1.7730 - val_accuracy: 0.7357\n",
            "Epoch 48/50\n",
            "151/151 [==============================] - 3s 20ms/step - loss: 0.7580 - accuracy: 0.8177 - val_loss: 1.7805 - val_accuracy: 0.7341\n",
            "Epoch 49/50\n",
            "151/151 [==============================] - 2s 15ms/step - loss: 0.7509 - accuracy: 0.8178 - val_loss: 1.7880 - val_accuracy: 0.7350\n",
            "Epoch 50/50\n",
            "151/151 [==============================] - 2s 10ms/step - loss: 0.7442 - accuracy: 0.8189 - val_loss: 1.7964 - val_accuracy: 0.7343\n"
          ]
        }
      ]
    },
    {
      "cell_type": "markdown",
      "source": [
        "### Gráfica de entrenamiento"
      ],
      "metadata": {
        "id": "ugv-wXXBqOG6"
      }
    },
    {
      "cell_type": "code",
      "source": [
        "# Entrenamiento\n",
        "epoch_count = range(1, len(hist.history['accuracy']) + 1)\n",
        "sns.lineplot(x=epoch_count,  y=hist.history['accuracy'], label='train')\n",
        "sns.lineplot(x=epoch_count,  y=hist.history['val_accuracy'], label='valid')\n",
        "plt.show()"
      ],
      "metadata": {
        "colab": {
          "base_uri": "https://localhost:8080/",
          "height": 430
        },
        "id": "MNfLbjRuqSPH",
        "outputId": "3fbfb3d4-6637-444b-891d-1a9ec5bc90b7"
      },
      "execution_count": 30,
      "outputs": [
        {
          "output_type": "display_data",
          "data": {
            "text/plain": [
              "<Figure size 640x480 with 1 Axes>"
            ],
            "image/png": "[encoded data removed]"
          },
          "metadata": {}
        }
      ]
    },
    {
      "cell_type": "markdown",
      "source": [
        "### Inferencia"
      ],
      "metadata": {
        "id": "LF__sb5Hqc5l"
      }
    },
    {
      "cell_type": "code",
      "source": [
        "# Armar los conversores de índice a palabra:\n",
        "idx2word_input = {v:k for k, v in word2idx_inputs.items()}\n",
        "idx2word_target = {v:k for k, v in word2idx_outputs.items()}\n",
        "\n",
        "def translate_sentence(input_seq):\n",
        "    # Se transforma la sequencia de entrada a los estados \"h\" y \"c\" de la LSTM\n",
        "    # para enviar la primera vez al decoder\n",
        "    states_value = encoder_model.predict(input_seq)\n",
        "\n",
        "    # Se inicializa la secuencia de entrada al decoder como \"<sos>\"\n",
        "    target_seq = np.zeros((1, 1))\n",
        "    target_seq[0, 0] = word2idx_outputs['<sos>']\n",
        "\n",
        "    # Se obtiene el índice que finaliza la inferencia\n",
        "    eos = word2idx_outputs['<eos>']\n",
        "\n",
        "    output_sentence = []\n",
        "    for _ in range(max_out_len):\n",
        "        # Predicción del próximo elemento\n",
        "        output_tokens, h, c = decoder_model.predict([target_seq] + states_value)\n",
        "        idx = np.argmax(output_tokens[0, 0, :])\n",
        "\n",
        "        # Si es \"end of sentece <eos>\" se acaba\n",
        "        if eos == idx:\n",
        "            break\n",
        "\n",
        "        # Transformar idx a palabra\n",
        "        word = ''\n",
        "        if idx > 0:\n",
        "            word = idx2word_target[idx]\n",
        "            output_sentence.append(word)\n",
        "\n",
        "        # Actualizar los estados dada la última predicción\n",
        "        states_value = [h, c]\n",
        "\n",
        "        # Actualizar secuencia de entrada con la salida (re-alimentación)\n",
        "        target_seq[0, 0] = idx\n",
        "\n",
        "    return ' '.join(output_sentence)"
      ],
      "metadata": {
        "id": "yGZOc-L9qfJd"
      },
      "execution_count": 31,
      "outputs": []
    },
    {
      "cell_type": "code",
      "source": [
        "i = np.random.choice(len(input_sentences))\n",
        "input_seq = encoder_input_sequences[i:i+1]\n",
        "translation = translate_sentence(input_seq)\n",
        "print('-')\n",
        "print('Input:', input_sentences[i])\n",
        "print('Response:', translation)"
      ],
      "metadata": {
        "colab": {
          "base_uri": "https://localhost:8080/"
        },
        "id": "Dh4VCMGzqoNH",
        "outputId": "a7689aa4-407c-4cdb-adf6-c3f9fde18f63"
      },
      "execution_count": 32,
      "outputs": [
        {
          "output_type": "stream",
          "name": "stdout",
          "text": [
            "1/1 [==============================] - 0s 352ms/step\n",
            "1/1 [==============================] - 0s 365ms/step\n",
            "1/1 [==============================] - 0s 19ms/step\n",
            "1/1 [==============================] - 0s 18ms/step\n",
            "1/1 [==============================] - 0s 19ms/step\n",
            "1/1 [==============================] - 0s 23ms/step\n",
            "-\n",
            "Input: what\n",
            "Response: i love to read\n"
          ]
        }
      ]
    },
    {
      "cell_type": "code",
      "source": [
        "input_test = 'My mother say hi.'\n",
        "print('Input:', input_test)\n",
        "integer_seq_test = input_tokenizer.texts_to_sequences([input_test])[0]\n",
        "print('Representación en vector de tokens de ids', integer_seq_test)\n",
        "encoder_sequence_test = pad_sequences([integer_seq_test], maxlen=max_input_len)\n",
        "print('Padding del vector:', encoder_sequence_test)\n",
        "\n",
        "print('Input:', input_test)\n",
        "translation = translate_sentence(encoder_sequence_test)\n",
        "print('Response:', translation)"
      ],
      "metadata": {
        "colab": {
          "base_uri": "https://localhost:8080/"
        },
        "id": "GABtb4enqwR_",
        "outputId": "b380dd9d-183c-4061-c131-ff050f0922bc"
      },
      "execution_count": 33,
      "outputs": [
        {
          "output_type": "stream",
          "name": "stdout",
          "text": [
            "Input: My mother say hi.\n",
            "Representación en vector de tokens de ids [36, 356, 113, 11]\n",
            "Padding del vector: [[  0   0   0   0   0  36 356 113  11]]\n",
            "Input: My mother say hi.\n",
            "1/1 [==============================] - 0s 17ms/step\n",
            "1/1 [==============================] - 0s 28ms/step\n",
            "1/1 [==============================] - 0s 19ms/step\n",
            "1/1 [==============================] - 0s 20ms/step\n",
            "1/1 [==============================] - 0s 19ms/step\n",
            "1/1 [==============================] - 0s 19ms/step\n",
            "1/1 [==============================] - 0s 20ms/step\n",
            "1/1 [==============================] - 0s 18ms/step\n",
            "1/1 [==============================] - 0s 18ms/step\n",
            "Response: what do you do for a living\n"
          ]
        }
      ]
    },
    {
      "cell_type": "code",
      "source": [
        "input_test = 'Do you read?'\n",
        "print('Input:', input_test)\n",
        "integer_seq_test = input_tokenizer.texts_to_sequences([input_test])[0]\n",
        "print('Representación en vector de tokens de ids', integer_seq_test)\n",
        "encoder_sequence_test = pad_sequences([integer_seq_test], maxlen=max_input_len)\n",
        "print('Padding del vector:', encoder_sequence_test)\n",
        "\n",
        "print('Input:', input_test)\n",
        "translation = translate_sentence(encoder_sequence_test)\n",
        "print('Response:', translation)"
      ],
      "metadata": {
        "colab": {
          "base_uri": "https://localhost:8080/"
        },
        "id": "fpfV-qf4rCPw",
        "outputId": "09ac49fa-bb1a-4111-d733-3dbb8e40cd39"
      },
      "execution_count": 34,
      "outputs": [
        {
          "output_type": "stream",
          "name": "stdout",
          "text": [
            "Input: Do you read?\n",
            "Representación en vector de tokens de ids [3, 2, 23]\n",
            "Padding del vector: [[ 0  0  0  0  0  0  3  2 23]]\n",
            "Input: Do you read?\n",
            "1/1 [==============================] - 0s 18ms/step\n",
            "1/1 [==============================] - 0s 18ms/step\n",
            "1/1 [==============================] - 0s 19ms/step\n",
            "1/1 [==============================] - 0s 19ms/step\n",
            "1/1 [==============================] - 0s 27ms/step\n",
            "1/1 [==============================] - 0s 23ms/step\n",
            "1/1 [==============================] - 0s 23ms/step\n",
            "1/1 [==============================] - 0s 19ms/step\n",
            "Response: i like to play video games\n"
          ]
        }
      ]
    },
    {
      "cell_type": "code",
      "source": [
        "input_test = 'Do you have any pet?'\n",
        "print('Input:', input_test)\n",
        "integer_seq_test = input_tokenizer.texts_to_sequences([input_test])[0]\n",
        "print('Representación en vector de tokens de ids', integer_seq_test)\n",
        "encoder_sequence_test = pad_sequences([integer_seq_test], maxlen=max_input_len)\n",
        "print('Padding del vector:', encoder_sequence_test)\n",
        "\n",
        "print('Input:', input_test)\n",
        "translation = translate_sentence(encoder_sequence_test)\n",
        "print('Response:', translation)"
      ],
      "metadata": {
        "colab": {
          "base_uri": "https://localhost:8080/"
        },
        "id": "AQ7PdwB9rMEu",
        "outputId": "2122f5ac-18a0-4e9f-d215-26bba3ba1c07"
      },
      "execution_count": 35,
      "outputs": [
        {
          "output_type": "stream",
          "name": "stdout",
          "text": [
            "Input: Do you have any pet?\n",
            "Representación en vector de tokens de ids [3, 2, 16, 31, 252]\n",
            "Padding del vector: [[  0   0   0   0   3   2  16  31 252]]\n",
            "Input: Do you have any pet?\n",
            "1/1 [==============================] - 0s 20ms/step\n",
            "1/1 [==============================] - 0s 20ms/step\n",
            "1/1 [==============================] - 0s 24ms/step\n",
            "Response: no\n"
          ]
        }
      ]
    },
    {
      "cell_type": "code",
      "source": [
        "input_test = 'Where are you from?'\n",
        "print('Input:', input_test)\n",
        "integer_seq_test = input_tokenizer.texts_to_sequences([input_test])[0]\n",
        "print('Representación en vector de tokens de ids', integer_seq_test)\n",
        "encoder_sequence_test = pad_sequences([integer_seq_test], maxlen=max_input_len)\n",
        "print('Padding del vector:', encoder_sequence_test)\n",
        "\n",
        "print('Input:', input_test)\n",
        "translation = translate_sentence(encoder_sequence_test)\n",
        "print('Response:', translation)"
      ],
      "metadata": {
        "colab": {
          "base_uri": "https://localhost:8080/"
        },
        "id": "Bg98_KYarRG4",
        "outputId": "5cc1b178-39a5-44dc-8631-b38fe4fb4065"
      },
      "execution_count": 36,
      "outputs": [
        {
          "output_type": "stream",
          "name": "stdout",
          "text": [
            "Input: Where are you from?\n",
            "Representación en vector de tokens de ids [52, 7, 2, 39]\n",
            "Padding del vector: [[ 0  0  0  0  0 52  7  2 39]]\n",
            "Input: Where are you from?\n",
            "1/1 [==============================] - 0s 21ms/step\n",
            "1/1 [==============================] - 0s 19ms/step\n",
            "1/1 [==============================] - 0s 19ms/step\n",
            "1/1 [==============================] - 0s 18ms/step\n",
            "1/1 [==============================] - 0s 20ms/step\n",
            "1/1 [==============================] - 0s 19ms/step\n",
            "Response: i am a teacher\n"
          ]
        }
      ]
    }
  ],
  "metadata": {
    "kernelspec": {
      "display_name": "Python 3",
      "name": "python3"
    },
    "language_info": {
      "codemirror_mode": {
        "name": "ipython",
        "version": 3
      },
      "file_extension": ".py",
      "mimetype": "text/x-python",
      "name": "python",
      "nbconvert_exporter": "python",
      "pygments_lexer": "ipython3",
      "version": "3.12.2"
    },
    "colab": {
      "provenance": [],
      "collapsed_sections": [
        "qM3d9TL2HKUM",
        "AmBZz0d7HKUO",
        "L4t8FidPHKUP",
        "BALqVWJbTrC7"
      ],
      "gpuType": "T4"
    },
    "accelerator": "GPU"
  },
  "nbformat": 4,
  "nbformat_minor": 0
}